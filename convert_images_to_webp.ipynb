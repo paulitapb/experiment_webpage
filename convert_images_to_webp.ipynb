{
 "cells": [
  {
   "cell_type": "code",
   "execution_count": 6,
   "metadata": {},
   "outputs": [],
   "source": [
    "from PIL import Image\n",
    "import os"
   ]
  },
  {
   "cell_type": "code",
   "execution_count": 8,
   "metadata": {},
   "outputs": [],
   "source": [
    "images_path = os.path.join(os.getcwd(), 'client', 'public', 'images')"
   ]
  },
  {
   "cell_type": "code",
   "execution_count": 11,
   "metadata": {},
   "outputs": [],
   "source": [
    "def convert_image_to_webp(image_path):\n",
    "    \n",
    "    # Open the image\n",
    "    img = Image.open(image_path)\n",
    "\n",
    "    if '.png' in image_path:\n",
    "        # Convert the image to WebP\n",
    "        img.save(image_path.replace('.png', '.webp'), \"webp\")\n",
    "        os.remove(image_path)\n",
    "    elif '.jpg' in image_path:\n",
    "        # Convert the image to WebP\n",
    "        img.save(image_path.replace('.jpg', '.webp'), \"webp\")\n",
    "        os.remove(image_path)"
   ]
  },
  {
   "cell_type": "markdown",
   "metadata": {},
   "source": [
    "### Convert DeMolenRemblandt to webp"
   ]
  },
  {
   "cell_type": "code",
   "execution_count": 10,
   "metadata": {},
   "outputs": [],
   "source": [
    "convert_image_to_webp(os.path.join(images_path, 'DeMolenRembrandt.jpg'))"
   ]
  },
  {
   "cell_type": "markdown",
   "metadata": {},
   "source": [
    "Convert original images in folder"
   ]
  },
  {
   "cell_type": "code",
   "execution_count": 14,
   "metadata": {},
   "outputs": [],
   "source": [
    "path_original_images = os.path.join(images_path, 'img_original')\n",
    "for image_path in os.listdir(path_original_images):\n",
    "    convert_image_to_webp(os.path.join(path_original_images, image_path))"
   ]
  },
  {
   "cell_type": "code",
   "execution_count": null,
   "metadata": {},
   "outputs": [],
   "source": [
    "os.listdir(path_original_images)"
   ]
  },
  {
   "cell_type": "markdown",
   "metadata": {},
   "source": [
    "Convert images in generated folders "
   ]
  },
  {
   "cell_type": "code",
   "execution_count": 20,
   "metadata": {},
   "outputs": [],
   "source": [
    "generated_image_folders_path = os.path.join(images_path, 'generated_imgs')\n",
    "for generates_images_folder in os.listdir(generated_image_folders_path):\n",
    "    for image_path in os.listdir(os.path.join(generated_image_folders_path, generates_images_folder)):\n",
    "        convert_image_to_webp(os.path.join(generated_image_folders_path, generates_images_folder, image_path))\n",
    "    "
   ]
  }
 ],
 "metadata": {
  "kernelspec": {
   "display_name": "Python 3",
   "language": "python",
   "name": "python3"
  },
  "language_info": {
   "codemirror_mode": {
    "name": "ipython",
    "version": 3
   },
   "file_extension": ".py",
   "mimetype": "text/x-python",
   "name": "python",
   "nbconvert_exporter": "python",
   "pygments_lexer": "ipython3",
   "version": "3.10.12"
  }
 },
 "nbformat": 4,
 "nbformat_minor": 2
}
