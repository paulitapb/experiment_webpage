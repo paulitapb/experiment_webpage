{
 "cells": [
  {
   "cell_type": "markdown",
   "metadata": {},
   "source": [
    "#### Generate series of images"
   ]
  },
  {
   "cell_type": "code",
   "execution_count": 1,
   "metadata": {},
   "outputs": [],
   "source": [
    "import pandas as pd\n",
    "import json\n",
    "import os\n",
    "import itertools\n",
    "import random\n",
    "seed=7\n",
    "random.seed(seed)"
   ]
  },
  {
   "cell_type": "code",
   "execution_count": 2,
   "metadata": {},
   "outputs": [
    {
     "data": {
      "text/plain": [
       "(896, 9)"
      ]
     },
     "execution_count": 2,
     "metadata": {},
     "output_type": "execute_result"
    }
   ],
   "source": [
    "#load data.json into dataframe \n",
    "data_experiment = pd.read_json('client/src/data.json')\n",
    "data_experiment.shape"
   ]
  },
  {
   "cell_type": "markdown",
   "metadata": {},
   "source": [
    "Cada serie tiene:\n",
    "    \n",
    "    - 5 img x experimento de cada grupo\n",
    "$5*4*7 == 140 imgs$\n",
    "\n",
    "de las 56 restantes -> Agrego al azar 9 a cada serie y salvo a dos que le agrego 10"
   ]
  },
  {
   "cell_type": "code",
   "execution_count": 3,
   "metadata": {},
   "outputs": [],
   "source": [
    "#reparto las imagenes en 6 series \n",
    "images_to_split = data_experiment\n",
    "series = []\n",
    "for serie_idx in range(6):\n",
    "    current_serie = []\n",
    "    for group in range(4):\n",
    "        images_of_group = images_to_split[images_to_split['group'] == group+1]\n",
    "        for experiment in data_experiment['experiment'].unique():\n",
    "            images_of_group_and_exp = images_of_group[images_of_group['experiment'] == experiment]\n",
    "            img_selected = images_of_group_and_exp.sample(n=5, random_state=seed)\n",
    "            img_id_selected = img_selected.id.tolist()\n",
    "            current_serie += img_id_selected\n",
    "            images_to_split = images_to_split.drop(img_selected.index)\n",
    "    series.append(current_serie)\n",
    "\n",
    "for i in range(6):\n",
    "    if i < 4:\n",
    "        n = 9\n",
    "    else:\n",
    "        n = 10\n",
    "    selected_img = images_to_split.sample(n=n, random_state=seed)\n",
    "    series[i] += selected_img.id.tolist()\n",
    "    images_to_split = images_to_split.drop(selected_img.index)"
   ]
  },
  {
   "cell_type": "markdown",
   "metadata": {},
   "source": [
    "#### generate 10 permutations of each serie"
   ]
  },
  {
   "cell_type": "code",
   "execution_count": 4,
   "metadata": {},
   "outputs": [],
   "source": [
    "final_series = []\n",
    "for i in range(10):\n",
    "    for serie_idx in range(6):\n",
    "        permutations_selected = random.shuffle(series[serie_idx])\n",
    "        final_series.append(series[serie_idx])"
   ]
  },
  {
   "cell_type": "code",
   "execution_count": 7,
   "metadata": {},
   "outputs": [
    {
     "data": {
      "text/plain": [
       "(array([[28., 27., 22., 10.,  0.,  0.,  7., 25., 10., 20.],\n",
       "        [25., 28., 32.,  1.,  0.,  0., 17., 20.,  6., 20.],\n",
       "        [26., 31., 25.,  4.,  0.,  0., 14., 23.,  6., 20.],\n",
       "        [26., 31., 20.,  7.,  0.,  0.,  9., 29.,  5., 22.],\n",
       "        [29., 27., 17.,  9.,  0.,  0.,  8., 28.,  9., 23.],\n",
       "        [30., 32., 17.,  8.,  0.,  0., 14., 17.,  9., 23.],\n",
       "        [28., 27., 22., 10.,  0.,  0.,  7., 25., 10., 20.],\n",
       "        [25., 28., 32.,  1.,  0.,  0., 17., 20.,  6., 20.],\n",
       "        [26., 31., 25.,  4.,  0.,  0., 14., 23.,  6., 20.],\n",
       "        [26., 31., 20.,  7.,  0.,  0.,  9., 29.,  5., 22.],\n",
       "        [29., 27., 17.,  9.,  0.,  0.,  8., 28.,  9., 23.],\n",
       "        [30., 32., 17.,  8.,  0.,  0., 14., 17.,  9., 23.],\n",
       "        [28., 27., 22., 10.,  0.,  0.,  7., 25., 10., 20.],\n",
       "        [25., 28., 32.,  1.,  0.,  0., 17., 20.,  6., 20.],\n",
       "        [26., 31., 25.,  4.,  0.,  0., 14., 23.,  6., 20.],\n",
       "        [26., 31., 20.,  7.,  0.,  0.,  9., 29.,  5., 22.],\n",
       "        [29., 27., 17.,  9.,  0.,  0.,  8., 28.,  9., 23.],\n",
       "        [30., 32., 17.,  8.,  0.,  0., 14., 17.,  9., 23.],\n",
       "        [28., 27., 22., 10.,  0.,  0.,  7., 25., 10., 20.],\n",
       "        [25., 28., 32.,  1.,  0.,  0., 17., 20.,  6., 20.],\n",
       "        [26., 31., 25.,  4.,  0.,  0., 14., 23.,  6., 20.],\n",
       "        [26., 31., 20.,  7.,  0.,  0.,  9., 29.,  5., 22.],\n",
       "        [29., 27., 17.,  9.,  0.,  0.,  8., 28.,  9., 23.],\n",
       "        [30., 32., 17.,  8.,  0.,  0., 14., 17.,  9., 23.],\n",
       "        [28., 27., 22., 10.,  0.,  0.,  7., 25., 10., 20.],\n",
       "        [25., 28., 32.,  1.,  0.,  0., 17., 20.,  6., 20.],\n",
       "        [26., 31., 25.,  4.,  0.,  0., 14., 23.,  6., 20.],\n",
       "        [26., 31., 20.,  7.,  0.,  0.,  9., 29.,  5., 22.],\n",
       "        [29., 27., 17.,  9.,  0.,  0.,  8., 28.,  9., 23.],\n",
       "        [30., 32., 17.,  8.,  0.,  0., 14., 17.,  9., 23.],\n",
       "        [28., 27., 22., 10.,  0.,  0.,  7., 25., 10., 20.],\n",
       "        [25., 28., 32.,  1.,  0.,  0., 17., 20.,  6., 20.],\n",
       "        [26., 31., 25.,  4.,  0.,  0., 14., 23.,  6., 20.],\n",
       "        [26., 31., 20.,  7.,  0.,  0.,  9., 29.,  5., 22.],\n",
       "        [29., 27., 17.,  9.,  0.,  0.,  8., 28.,  9., 23.],\n",
       "        [30., 32., 17.,  8.,  0.,  0., 14., 17.,  9., 23.],\n",
       "        [28., 27., 22., 10.,  0.,  0.,  7., 25., 10., 20.],\n",
       "        [25., 28., 32.,  1.,  0.,  0., 17., 20.,  6., 20.],\n",
       "        [26., 31., 25.,  4.,  0.,  0., 14., 23.,  6., 20.],\n",
       "        [26., 31., 20.,  7.,  0.,  0.,  9., 29.,  5., 22.],\n",
       "        [29., 27., 17.,  9.,  0.,  0.,  8., 28.,  9., 23.],\n",
       "        [30., 32., 17.,  8.,  0.,  0., 14., 17.,  9., 23.],\n",
       "        [28., 27., 22., 10.,  0.,  0.,  7., 25., 10., 20.],\n",
       "        [25., 28., 32.,  1.,  0.,  0., 17., 20.,  6., 20.],\n",
       "        [26., 31., 25.,  4.,  0.,  0., 14., 23.,  6., 20.],\n",
       "        [26., 31., 20.,  7.,  0.,  0.,  9., 29.,  5., 22.],\n",
       "        [29., 27., 17.,  9.,  0.,  0.,  8., 28.,  9., 23.],\n",
       "        [30., 32., 17.,  8.,  0.,  0., 14., 17.,  9., 23.],\n",
       "        [28., 27., 22., 10.,  0.,  0.,  7., 25., 10., 20.],\n",
       "        [25., 28., 32.,  1.,  0.,  0., 17., 20.,  6., 20.],\n",
       "        [26., 31., 25.,  4.,  0.,  0., 14., 23.,  6., 20.],\n",
       "        [26., 31., 20.,  7.,  0.,  0.,  9., 29.,  5., 22.],\n",
       "        [29., 27., 17.,  9.,  0.,  0.,  8., 28.,  9., 23.],\n",
       "        [30., 32., 17.,  8.,  0.,  0., 14., 17.,  9., 23.],\n",
       "        [28., 27., 22., 10.,  0.,  0.,  7., 25., 10., 20.],\n",
       "        [25., 28., 32.,  1.,  0.,  0., 17., 20.,  6., 20.],\n",
       "        [26., 31., 25.,  4.,  0.,  0., 14., 23.,  6., 20.],\n",
       "        [26., 31., 20.,  7.,  0.,  0.,  9., 29.,  5., 22.],\n",
       "        [29., 27., 17.,  9.,  0.,  0.,  8., 28.,  9., 23.],\n",
       "        [30., 32., 17.,  8.,  0.,  0., 14., 17.,  9., 23.]]),\n",
       " array([   0. ,  555.8, 1111.6, 1667.4, 2223.2, 2779. , 3334.8, 3890.6,\n",
       "        4446.4, 5002.2, 5558. ]),\n",
       " <a list of 60 BarContainer objects>)"
      ]
     },
     "execution_count": 7,
     "metadata": {},
     "output_type": "execute_result"
    },
    {
     "data": {
      "image/png": "[encoded data removed]",
      "text/plain": [
       "<Figure size 640x480 with 1 Axes>"
      ]
     },
     "metadata": {},
     "output_type": "display_data"
    }
   ],
   "source": [
    "from matplotlib import pyplot as plt\n",
    "\n",
    "plt.hist(final_series, bins=10)"
   ]
  },
  {
   "cell_type": "code",
   "execution_count": 8,
   "metadata": {},
   "outputs": [
    {
     "data": {
      "text/plain": [
       "(array([164., 176., 133.,  39.,   0.,   0.,  69., 142.,  45., 128.]),\n",
       " array([   0. ,  555.8, 1111.6, 1667.4, 2223.2, 2779. , 3334.8, 3890.6,\n",
       "        4446.4, 5002.2, 5558. ]),\n",
       " <BarContainer object of 10 artists>)"
      ]
     },
     "execution_count": 8,
     "metadata": {},
     "output_type": "execute_result"
    },
    {
     "data": {
      "image/png": "[encoded data removed]",
      "text/plain": [
       "<Figure size 640x480 with 1 Axes>"
      ]
     },
     "metadata": {},
     "output_type": "display_data"
    }
   ],
   "source": [
    "plt.hist(data_experiment['id'])"
   ]
  },
  {
   "cell_type": "code",
   "execution_count": null,
   "metadata": {},
   "outputs": [],
   "source": [
    "#export this list into a json file\n",
    "with open('id_images_series.json', 'w') as f:\n",
    "    json.dump(final_series, f)"
   ]
  }
 ],
 "metadata": {
  "kernelspec": {
   "display_name": "bicc-env",
   "language": "python",
   "name": "python3"
  },
  "language_info": {
   "codemirror_mode": {
    "name": "ipython",
    "version": 3
   },
   "file_extension": ".py",
   "mimetype": "text/x-python",
   "name": "python",
   "nbconvert_exporter": "python",
   "pygments_lexer": "ipython3",
   "version": "3.8.10"
  }
 },
 "nbformat": 4,
 "nbformat_minor": 2
}
