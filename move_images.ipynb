{
 "cells": [
  {
   "cell_type": "markdown",
   "metadata": {},
   "source": [
    "### Move images from data.json into the images folders in the experiment"
   ]
  },
  {
   "cell_type": "code",
   "execution_count": 17,
   "metadata": {},
   "outputs": [],
   "source": [
    "import pandas as pd\n",
    "import json\n",
    "import os\n",
    "import shutil"
   ]
  },
  {
   "cell_type": "code",
   "execution_count": 10,
   "metadata": {},
   "outputs": [
    {
     "data": {
      "text/html": [
       "<div>\n",
       "<style scoped>\n",
       "    .dataframe tbody tr th:only-of-type {\n",
       "        vertical-align: middle;\n",
       "    }\n",
       "\n",
       "    .dataframe tbody tr th {\n",
       "        vertical-align: top;\n",
       "    }\n",
       "\n",
       "    .dataframe thead th {\n",
       "        text-align: right;\n",
       "    }\n",
       "</style>\n",
       "<table border=\"1\" class=\"dataframe\">\n",
       "  <thead>\n",
       "    <tr style=\"text-align: right;\">\n",
       "      <th></th>\n",
       "      <th>id</th>\n",
       "      <th>name</th>\n",
       "      <th>dir</th>\n",
       "      <th>alt</th>\n",
       "      <th>img</th>\n",
       "      <th>group</th>\n",
       "      <th>experiment</th>\n",
       "      <th>promptUsed</th>\n",
       "      <th>geometric</th>\n",
       "    </tr>\n",
       "  </thead>\n",
       "  <tbody>\n",
       "    <tr>\n",
       "      <th>0</th>\n",
       "      <td>3944</td>\n",
       "      <td>img generada de grupo 1 img 1</td>\n",
       "      <td>tedx_exp_genai/Experiments_text2img_generation...</td>\n",
       "      <td></td>\n",
       "      <td>1</td>\n",
       "      <td>1</td>\n",
       "      <td>experiment_english_captions</td>\n",
       "      <td>38</td>\n",
       "      <td>True</td>\n",
       "    </tr>\n",
       "    <tr>\n",
       "      <th>1</th>\n",
       "      <td>4061</td>\n",
       "      <td>img generada de grupo 1 img 1</td>\n",
       "      <td>tedx_exp_genai/Experiments_text2img_generation...</td>\n",
       "      <td></td>\n",
       "      <td>1</td>\n",
       "      <td>1</td>\n",
       "      <td>experiment_english_captions</td>\n",
       "      <td>20</td>\n",
       "      <td>True</td>\n",
       "    </tr>\n",
       "    <tr>\n",
       "      <th>2</th>\n",
       "      <td>3965</td>\n",
       "      <td>img generada de grupo 1 img 1</td>\n",
       "      <td>tedx_exp_genai/Experiments_text2img_generation...</td>\n",
       "      <td></td>\n",
       "      <td>1</td>\n",
       "      <td>1</td>\n",
       "      <td>experiment_english_captions</td>\n",
       "      <td>24</td>\n",
       "      <td>True</td>\n",
       "    </tr>\n",
       "    <tr>\n",
       "      <th>3</th>\n",
       "      <td>3881</td>\n",
       "      <td>img generada de grupo 1 img 1</td>\n",
       "      <td>tedx_exp_genai/Experiments_text2img_generation...</td>\n",
       "      <td></td>\n",
       "      <td>1</td>\n",
       "      <td>1</td>\n",
       "      <td>experiment_english_captions</td>\n",
       "      <td>35</td>\n",
       "      <td>True</td>\n",
       "    </tr>\n",
       "    <tr>\n",
       "      <th>4</th>\n",
       "      <td>3760</td>\n",
       "      <td>img generada de grupo 1 img 1</td>\n",
       "      <td>tedx_exp_genai/Experiments_text2img_generation...</td>\n",
       "      <td></td>\n",
       "      <td>1</td>\n",
       "      <td>1</td>\n",
       "      <td>experiment_english_captions</td>\n",
       "      <td>11</td>\n",
       "      <td>False</td>\n",
       "    </tr>\n",
       "  </tbody>\n",
       "</table>\n",
       "</div>"
      ],
      "text/plain": [
       "     id                           name  \\\n",
       "0  3944  img generada de grupo 1 img 1   \n",
       "1  4061  img generada de grupo 1 img 1   \n",
       "2  3965  img generada de grupo 1 img 1   \n",
       "3  3881  img generada de grupo 1 img 1   \n",
       "4  3760  img generada de grupo 1 img 1   \n",
       "\n",
       "                                                 dir alt  img  group  \\\n",
       "0  tedx_exp_genai/Experiments_text2img_generation...        1      1   \n",
       "1  tedx_exp_genai/Experiments_text2img_generation...        1      1   \n",
       "2  tedx_exp_genai/Experiments_text2img_generation...        1      1   \n",
       "3  tedx_exp_genai/Experiments_text2img_generation...        1      1   \n",
       "4  tedx_exp_genai/Experiments_text2img_generation...        1      1   \n",
       "\n",
       "                    experiment  promptUsed  geometric  \n",
       "0  experiment_english_captions          38       True  \n",
       "1  experiment_english_captions          20       True  \n",
       "2  experiment_english_captions          24       True  \n",
       "3  experiment_english_captions          35       True  \n",
       "4  experiment_english_captions          11      False  "
      ]
     },
     "execution_count": 10,
     "metadata": {},
     "output_type": "execute_result"
    }
   ],
   "source": [
    "#load data.json into dataframe \n",
    "data_experiment = pd.read_json('client/src/data.json')\n",
    "data_experiment.head()"
   ]
  },
  {
   "cell_type": "code",
   "execution_count": 13,
   "metadata": {},
   "outputs": [],
   "source": [
    "#create directory for each experiment\n",
    "experiments = data_experiment['experiment'].unique()\n",
    "#create a directory in client/public/images/generated_imgs for each experiment\n",
    "\n",
    "for experiment in experiments:\n",
    "    if not os.path.exists('client/public/images/generated_imgs/' + experiment):\n",
    "        os.makedirs('client/public/images/generated_imgs/' + experiment)"
   ]
  },
  {
   "cell_type": "code",
   "execution_count": 24,
   "metadata": {},
   "outputs": [],
   "source": [
    "#copy images in data.json to the corresponding directory\n",
    "for index, row in data_experiment.iterrows():\n",
    "    experiment = row['experiment']\n",
    "    img_path = '../' + row['dir']\n",
    "    \n",
    "    dst_path = 'client/public/images/generated_imgs/' + experiment + '/' + img_path.split('/')[-1]\n",
    "    shutil.copy(img_path, dst_path)"
   ]
  }
 ],
 "metadata": {
  "kernelspec": {
   "display_name": "bicc-env",
   "language": "python",
   "name": "python3"
  },
  "language_info": {
   "codemirror_mode": {
    "name": "ipython",
    "version": 3
   },
   "file_extension": ".py",
   "mimetype": "text/x-python",
   "name": "python",
   "nbconvert_exporter": "python",
   "pygments_lexer": "ipython3",
   "version": "3.8.10"
  }
 },
 "nbformat": 4,
 "nbformat_minor": 2
}
